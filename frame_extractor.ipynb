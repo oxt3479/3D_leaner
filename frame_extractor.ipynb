{
 "cells": [
  {
   "cell_type": "code",
   "execution_count": 1,
   "metadata": {},
   "outputs": [
    {
     "data": {
      "text/plain": [
       "['skyscraper_1080_sequential_3d.mkv',\n",
       " '.ipynb_checkpoints',\n",
       " 'frame_extractor.ipynb',\n",
       " 'left',\n",
       " 'right']"
      ]
     },
     "execution_count": 1,
     "metadata": {},
     "output_type": "execute_result"
    }
   ],
   "source": [
    "import os\n",
    "import cv2\n",
    "os.listdir()"
   ]
  },
  {
   "cell_type": "code",
   "execution_count": 2,
   "metadata": {},
   "outputs": [],
   "source": [
    "vidcap = cv2.VideoCapture('skyscraper_1080_sequential_3d.mkv')\n",
    "success,image = vidcap.read()\n",
    "count = 0\n",
    "while success:\n",
    "    image = cv2.resize(image, (1280,720))\n",
    "    if count % 2 == 0:\n",
    "        cv2.imwrite(\"left/skyscraper/sky_%06d.jpg\" % (count/2), image)   \n",
    "    else:\n",
    "        cv2.imwrite(\"right/skyscraper/sky_%06d_R.jpg\" % ((count-1)/2), image)\n",
    "    success,image = vidcap.read()\n",
    "    #print('Read a new frame: ', success)\n",
    "    count += 1"
   ]
  },
  {
   "cell_type": "code",
   "execution_count": null,
   "metadata": {},
   "outputs": [],
   "source": []
  }
 ],
 "metadata": {
  "kernelspec": {
   "display_name": "Python 3",
   "language": "python3",
   "name": "python3"
  },
  "language_info": {
   "codemirror_mode": {
    "name": "ipython",
    "version": 3
   },
   "file_extension": ".py",
   "mimetype": "text/x-python",
   "name": "python",
   "nbconvert_exporter": "python",
   "pygments_lexer": "ipython3",
   "version": "3.6.8"
  }
 },
 "nbformat": 4,
 "nbformat_minor": 2
}
