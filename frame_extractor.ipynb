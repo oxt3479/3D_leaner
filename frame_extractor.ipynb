{
 "cells": [
  {
   "cell_type": "code",
   "execution_count": 1,
   "metadata": {},
   "outputs": [
    {
     "name": "stdout",
     "output_type": "stream",
     "text": "227"
    }
   ],
   "source": [
    "import os\n",
    "import cv2\n",
    "import sys\n",
    "\n",
    "vidcap = cv2.VideoCapture('movies/Dredd/Dredd 3D-FS 1080p.mkv')\n",
    "success,image = vidcap.read()\n",
    "count = 0\n",
    "while success:\n",
    "    sys.stdout.write(\"\\r\"+str(count))\n",
    "    sys.stdout.flush()\n",
    "\n",
    "    image = cv2.resize(image, (1280,720))\n",
    "    if count % 2 == 0:\n",
    "        cv2.imwrite(\"left/Dredd/Dred_%06d.jpg\" % (count/2), image)   \n",
    "    else:\n",
    "        cv2.imwrite(\"right/Dredd/Dred_%06d_R.jpg\" % ((count-1)/2), image)\n",
    "    success,image = vidcap.read()\n",
    "    count += 1"
   ]
  },
  {
   "cell_type": "code",
   "execution_count": null,
   "metadata": {},
   "outputs": [],
   "source": []
  },
  {
   "source": [
    "import os\n",
    "print(len(os.listdir(\"left/Dredd\")))"
   ],
   "cell_type": "code",
   "outputs": [
    {
     "output_type": "stream",
     "name": "stdout",
     "text": "29542\n"
    }
   ],
   "metadata": {},
   "execution_count": 2
  }
 ],
 "metadata": {
  "kernelspec": {
   "display_name": "Python 3",
   "language": "python3",
   "name": "python3"
  },
  "language_info": {
   "codemirror_mode": {
    "name": "ipython",
    "version": 3
   },
   "file_extension": ".py",
   "mimetype": "text/x-python",
   "name": "python",
   "nbconvert_exporter": "python",
   "pygments_lexer": "ipython3",
   "version": "3.6.9"
  }
 },
 "nbformat": 4,
 "nbformat_minor": 2
}