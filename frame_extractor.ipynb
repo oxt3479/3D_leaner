{
 "cells": [
  {
   "cell_type": "code",
   "execution_count": 3,
   "metadata": {},
   "outputs": [
    {
     "name": "stdout",
     "output_type": "stream",
     "text": "0123456789101112131415161718192021222324252627282930313233343536373839404142434445464748495051525354555657585960616263646566676869707172737475767778798081828384858687888990919293949596979899100101102103104105106107108109110111112113114115116117118119120121122123124125126127128129130131132133134135136137138139140141142143144145146147148149150151152153154155156157158159160161162163164165166167168169170171172173174175176177178179180181182183184185186187188189190191192193194"
    }
   ],
   "source": [
    "import os\n",
    "import cv2\n",
    "import sys\n",
    "\n",
    "vidcap = cv2.VideoCapture('movies/Dredd/Dredd 3D-FS 1080p.mkv')\n",
    "success,image = vidcap.read()\n",
    "count = 0\n",
    "while success:\n",
    "    sys.stdout.write(\"\\r\"+str(count))\n",
    "    sys.stdout.flush()\n",
    "\n",
    "    image = cv2.resize(image, (1280,720))\n",
    "    if count % 2 == 0:\n",
    "        cv2.imwrite(\"left/Dredd/Dred_%06d.jpg\" % (count/2), image)   \n",
    "    else:\n",
    "        cv2.imwrite(\"right/Dredd/Dred_%06d_R.jpg\" % ((count-1)/2), image)\n",
    "    success,image = vidcap.read()\n",
    "    #print('Read a new frame: ', success)\n",
    "    count += 1"
   ]
  },
  {
   "cell_type": "code",
   "execution_count": 7,
   "metadata": {},
   "outputs": [
    {
     "name": "stdout",
     "output_type": "stream",
     "text": "170786\n"
    }
   ],
   "source": [
    "print(len(os.listdir('left/47Ronin/')))"
   ]
  },
  {
   "cell_type": "code",
   "execution_count": null,
   "metadata": {},
   "outputs": [],
   "source": []
  }
 ],
 "metadata": {
  "kernelspec": {
   "display_name": "Python 3",
   "language": "python3",
   "name": "python3"
  },
  "language_info": {
   "codemirror_mode": {
    "name": "ipython",
    "version": 3
   },
   "file_extension": ".py",
   "mimetype": "text/x-python",
   "name": "python",
   "nbconvert_exporter": "python",
   "pygments_lexer": "ipython3",
   "version": "3.6.9"
  }
 },
 "nbformat": 4,
 "nbformat_minor": 2
}