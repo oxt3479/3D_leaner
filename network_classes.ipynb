{
 "cells": [
  {
   "cell_type": "code",
   "execution_count": 1,
   "metadata": {},
   "outputs": [],
   "source": [
    "import torch\n",
    "import torch.nn as nn\n",
    "import torch.nn.functional as F\n",
    "DEVICE = torch.device(\"cuda:0\")\n",
    "# Moving to the gpu: net = Net().to(DEVICE)"
   ]
  },
  {
   "cell_type": "code",
   "execution_count": 5,
   "metadata": {},
   "outputs": [
    {
     "data": {
      "text/plain": [
       "torch.Size([1, 1, 1280, 720])"
      ]
     },
     "execution_count": 5,
     "metadata": {},
     "output_type": "execute_result"
    }
   ],
   "source": [
    "class autoencoder(nn.Module):\n",
    "    def __init__(self):\n",
    "        super(autoencoder, self).__init__()\n",
    "        encode = []\n",
    "        relu = nn.ReLU(True)\n",
    "        pool = nn.MaxPool2d(2)\n",
    "        encode.append(nn.Sequential(nn.Conv2d(1, 32, 3, padding=1), relu, pool))\n",
    "        encode.append(nn.Sequential(nn.Conv2d(32, 64, 3, padding=1), relu, pool))\n",
    "        encode.append(nn.Sequential(nn.Conv2d(64, 128, 3, padding=1), relu, pool))\n",
    "        encode.append(nn.Sequential(nn.Conv2d(128, 256, 3, padding=1), relu, pool))\n",
    "        encode.append(nn.Sequential(nn.Conv2d(256, 256, 3, padding=1), relu))\n",
    "        \n",
    "        self.encoders = []\n",
    "        self.encoders.append(nn.Sequential(*encode).to(DEVICE)) # for n-1\n",
    "        self.encoders.append(nn.Sequential(*encode).to(DEVICE)) # for D(n-1)\n",
    "        self.encoders.append(nn.Sequential(*encode).to(DEVICE)) # for n\n",
    "        self.encoders.append(nn.Sequential(*encode).to(DEVICE)) # for D(n+1)\n",
    "        self.encoders.append(nn.Sequential(*encode).to(DEVICE)) # for n+1\n",
    "        \n",
    "        decode = []\n",
    "        decode.append(nn.Sequential(nn.Conv2d(256*5, 256, 3, padding = 1), relu))\n",
    "        decode.append(nn.Sequential(nn.ConvTranspose2d(256*6, 128, 3, stride=2, \\\n",
    "                                                       padding=1, output_padding=1), relu))\n",
    "        decode.append(nn.Sequential(nn.ConvTranspose2d(128*6, 64, 3, stride=2, \\\n",
    "                                                       padding=1, output_padding=1), relu))\n",
    "        decode.append(nn.Sequential(nn.ConvTranspose2d(64*6, 32, 3, stride=2, \\\n",
    "                                                       padding=1, output_padding=1), relu))\n",
    "        decode.append(nn.Sequential(nn.ConvTranspose2d(32*6, 1, 3, stride=2, \\\n",
    "                                                       padding=1, output_padding=1), relu))\n",
    "        \n",
    "        self.decoder = nn.Sequential(*decode).to(DEVICE)\n",
    "        '''\n",
    "        transform = []\n",
    "        transform.append(nn.Sequential(nn.Conv3d(1, 32, 3), relu))\n",
    "        transform.append(nn.Sequential(nn.Conv2d(32, 1, 3), relu))\n",
    "        \n",
    "        self.transformer = nn.Sequential(*transform)\n",
    "        '''\n",
    "    def forward(self, x):\n",
    "        '''Fuction uses skips parameter to\n",
    "        keep track of skip connections between\n",
    "        encoder and decoder layers.'''\n",
    "        skips = [[],[],[],[],[]]\n",
    "        nextinput = x\n",
    "        for i, encoder in enumerate(self.encoders):\n",
    "            x = nextinput\n",
    "            for layer in encoder:\n",
    "                x = layer(x)\n",
    "                skips[i].append(x)\n",
    "        x = skips[-1][-1]\n",
    "        for i, layer in enumerate(self.decoder):\n",
    "            for j, encoder in enumerate(skips):\n",
    "                if j == len(skips)-1 and i == 0: break\n",
    "                x = torch.cat((x,encoder[-(i+1)]),1)\n",
    "            x = layer(x)\n",
    "        return x\n",
    "\n",
    "network = autoencoder()\n",
    "network = network.to(DEVICE)\n",
    "x = torch.randn(1,1280,720).to(DEVICE)\n",
    "network(x.view(-1,1,1280,720)).size()\n"
   ]
  },
  {
   "cell_type": "code",
   "execution_count": null,
   "metadata": {},
   "outputs": [],
   "source": []
  },
  {
   "cell_type": "code",
   "execution_count": null,
   "metadata": {},
   "outputs": [],
   "source": []
  }
 ],
 "metadata": {
  "kernelspec": {
   "display_name": "Python 3",
   "language": "python3",
   "name": "python3"
  },
  "language_info": {
   "codemirror_mode": {
    "name": "ipython",
    "version": 3
   },
   "file_extension": ".py",
   "mimetype": "text/x-python",
   "name": "python",
   "nbconvert_exporter": "python",
   "pygments_lexer": "ipython3",
   "version": "3.6.8"
  }
 },
 "nbformat": 4,
 "nbformat_minor": 2
}
