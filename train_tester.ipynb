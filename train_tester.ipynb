{
 "cells": [
  {
   "cell_type": "code",
   "execution_count": 9,
   "metadata": {},
   "outputs": [],
   "source": [
    "import torch\n",
    "import torch.nn as nn\n",
    "import torch.nn.functional as F\n",
    "import torch.optim as optim\n",
    "import torchvision\n",
    "from torchvision.utils import save_image\n",
    "\n",
    "import numpy as np\n",
    "import matplotlib.pyplot as plt\n",
    "from tqdm import tqdm\n",
    "import random\n",
    "import time\n",
    "import os\n",
    "\n",
    "from monodepthloss import MonodepthLoss\n",
    "from depthnet import *\n",
    "\n",
    "DEVICE = torch.device(\"cuda:0\")"
   ]
  },
  {
   "cell_type": "code",
   "execution_count": 10,
   "metadata": {},
   "outputs": [],
   "source": [
    "encoderdecoder = ResnetModel(3).to(DEVICE)\n",
    "\n",
    "optimizer = optim.Adam(encoderdecoder.parameters(),lr=0.0001)\n",
    "loss_function = MonodepthLoss(n=4, SSIM_w=0.85,\\\n",
    "                disp_gradient_w=0.1, lr_w=1).to(DEVICE)\n",
    "\n",
    "encoderdecoder.load_state_dict(torch.load('state_dicts/encoderdecoder3-1574426512'))\n",
    "data = []\n",
    "directory = \"numpy_img/\"\n",
    "for file in os.listdir(directory):\n",
    "    training_data = np.load(directory+file, allow_pickle=True, mmap_mode = 'r+')\n",
    "    data.append(training_data)"
   ]
  },
  {
   "cell_type": "code",
   "execution_count": 11,
   "metadata": {},
   "outputs": [
    {
     "name": "stderr",
     "output_type": "stream",
     "text": "\n  0%|          | 0/11277 [00:00<?, ?it/s]\u001b[AEpoch: 0\n\n  0%|          | 1/11277 [00:06<20:14:21,  6.46s/it]\u001b[A\n  0%|          | 2/11277 [00:12<20:06:28,  6.42s/it]\u001b[A\n  0%|          | 3/11277 [00:19<20:24:39,  6.52s/it]\u001b[A\n  0%|          | 4/11277 [00:26<20:22:18,  6.51s/it]\u001b[A\n  0%|          | 5/11277 [00:32<20:23:05,  6.51s/it]\u001b[A"
    },
    {
     "ename": "KeyboardInterrupt",
     "evalue": "",
     "output_type": "error",
     "traceback": [
      "\u001b[0;31m---------------------------------------------------------------------------\u001b[0m",
      "\u001b[0;31mKeyboardInterrupt\u001b[0m                         Traceback (most recent call last)",
      "\u001b[0;32m<ipython-input-11-9b22550a56ce>\u001b[0m in \u001b[0;36m<module>\u001b[0;34m\u001b[0m\n\u001b[1;32m     39\u001b[0m                              RoutN.view(-1,3,256,640)])\n\u001b[1;32m     40\u001b[0m         \u001b[0mloss\u001b[0m\u001b[0;34m.\u001b[0m\u001b[0mbackward\u001b[0m\u001b[0;34m(\u001b[0m\u001b[0;34m)\u001b[0m\u001b[0;34m\u001b[0m\u001b[0;34m\u001b[0m\u001b[0m\n\u001b[0;32m---> 41\u001b[0;31m         \u001b[0mmean\u001b[0m\u001b[0;34m.\u001b[0m\u001b[0mappend\u001b[0m\u001b[0;34m(\u001b[0m\u001b[0mloss\u001b[0m\u001b[0;34m.\u001b[0m\u001b[0mitem\u001b[0m\u001b[0;34m(\u001b[0m\u001b[0;34m)\u001b[0m\u001b[0;34m)\u001b[0m\u001b[0;34m\u001b[0m\u001b[0;34m\u001b[0m\u001b[0m\n\u001b[0m\u001b[1;32m     42\u001b[0m         \u001b[0mj\u001b[0m \u001b[0;34m+=\u001b[0m \u001b[0;36m1\u001b[0m\u001b[0;34m\u001b[0m\u001b[0;34m\u001b[0m\u001b[0m\n\u001b[1;32m     43\u001b[0m         \u001b[0;32mif\u001b[0m \u001b[0mj\u001b[0m \u001b[0;34m%\u001b[0m \u001b[0;36m100\u001b[0m \u001b[0;34m==\u001b[0m \u001b[0;36m0\u001b[0m\u001b[0;34m:\u001b[0m\u001b[0;34m\u001b[0m\u001b[0;34m\u001b[0m\u001b[0m\n",
      "\u001b[0;31mKeyboardInterrupt\u001b[0m: "
     ]
    }
   ],
   "source": [
    "testing = False\n",
    "j = 0\n",
    "mean = []\n",
    "n = 12\n",
    "epochs = 10\n",
    "\n",
    "f= open(f\"logs/results-{int(time.time())}.txt\",\"w+\")\n",
    "for epoch in range(epochs):\n",
    "    samps = []\n",
    "    print(\"Epoch: \"+ str(epoch))\n",
    "    for img, training_data in enumerate(data):\n",
    "        nums = list(range(len(training_data)))\n",
    "        for i in range(0, len(nums), n):\n",
    "            set = nums[i:i+n]\n",
    "            random.shuffle(set)\n",
    "            samps.append([img, set])\n",
    "    random.shuffle(samps)\n",
    "    for frame in tqdm(samps):\n",
    "        LinNMimg = torch.from_numpy(data[frame[0]][[x - 2 for x in frame[1]],0])\\\n",
    "        .type(torch.cuda.FloatTensor)\n",
    "        LinNimg = torch.from_numpy(data[frame[0]][[x - 1 for x in frame[1]],0])\\\n",
    "        .type(torch.cuda.FloatTensor)\n",
    "        LinNPimg = torch.from_numpy(data[frame[0]][frame[1],0])\\\n",
    "        .type(torch.cuda.FloatTensor)\n",
    "\n",
    "        RoutNimg = torch.from_numpy(data[frame[0]][frame[1],1])\\\n",
    "        .type(torch.cuda.FloatTensor)\n",
    "\n",
    "        LinNM = torch.div(LinNMimg, 255).permute(0,3,1,2)\n",
    "        LinN = torch.div(LinNimg, 255).permute(0,3,1,2)\n",
    "        LinNP = torch.div(LinNPimg, 255).permute(0,3,1,2)\n",
    "\n",
    "        RoutN = torch.div(RoutNimg, 255).permute(0,3,1,2)\n",
    "\n",
    "        encoderdecoder.zero_grad()\n",
    "        output = encoderdecoder([LinNM.view(-1,3,256,640),LinN.view(-1,3,256,640),\\\n",
    "                                LinNP.view(-1,3,256,640)])\n",
    "        loss = loss_function(output,[LinN.view(-1,3,256,640),\\\n",
    "                             RoutN.view(-1,3,256,640)])\n",
    "        loss.backward()\n",
    "        mean.append(loss.item())\n",
    "        j += 1\n",
    "        if j % 100 == 0:\n",
    "            f.write(f\"{round(sum(mean)/len(mean),5)}\\n\")\n",
    "            f.flush()\n",
    "            mean = []\n",
    "        if j % 5000 == 0:\n",
    "            thetime = int(time.time())\n",
    "            torch.save(encoderdecoder.state_dict(),\\\n",
    "             f\"state_dicts/encoderdecoder3-{thetime}\")\n",
    "\n",
    "            '''save_image(RoutN[0,:,:,:].view(3,256,640).cpu(), \\\n",
    "                       f'imageout/{thetime}-left.png')\n",
    "            save_image(output[0][0,0,:,:].view(256,640).cpu(), \\\n",
    "                       f'imageout/{thetime}-depth.png')'''\n",
    "        optimizer.step()\n",
    "f.close()"
   ]
  },
  {
   "cell_type": "code",
   "execution_count": 0,
   "metadata": {},
   "outputs": [],
   "source": [
    "plt.imshow(output[0][0,0,:,:].view(256, 640).cpu().detach().numpy(), 'gray')\n",
    "plt.show()\n",
    "plt.imshow(RoutN[0,:,:,:].view(3,256,640).permute(1,2,0).cpu())\n",
    "plt.show()"
   ]
  },
  {
   "cell_type": "code",
   "execution_count": null,
   "metadata": {},
   "outputs": [],
   "source": []
  }
 ],
 "metadata": {
  "kernelspec": {
   "display_name": "Python 3",
   "language": "python3",
   "name": "python3"
  }
 },
 "nbformat": 4,
 "nbformat_minor": 2
}