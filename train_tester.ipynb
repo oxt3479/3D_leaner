{
 "cells": [
  {
   "cell_type": "code",
   "execution_count": 1,
   "metadata": {},
   "outputs": [],
   "source": [
    "import torch\n",
    "import torch.nn as nn\n",
    "import torch.nn.functional as F\n",
    "import torch.optim as optim\n",
    "import torchvision\n",
    "from torchvision.utils import save_image\n",
    "\n",
    "import numpy as np\n",
    "import matplotlib.pyplot as plt\n",
    "from tqdm import tqdm\n",
    "import random\n",
    "import time\n",
    "import os\n",
    "\n",
    "from monodepthloss import MonodepthLoss\n",
    "from depthnet import *\n",
    "\n",
    "#from depthencoder import depthencoder \n",
    "#from depth_decoder import *\n",
    "\n",
    "DEVICE = torch.device(\"cuda:0\")"
   ]
  },
  {
   "cell_type": "code",
   "execution_count": 2,
   "metadata": {},
   "outputs": [],
   "source": [
    "encoderdecoder = ResnetModel(3).to(DEVICE)\n",
    "\n",
    "optimizer = optim.Adam(encoderdecoder.parameters(),lr=0.001)\n",
    "loss_function = MonodepthLoss(n=4, SSIM_w=0.85,\\\n",
    "                disp_gradient_w=0.1, lr_w=1).to(DEVICE)\n",
    "\n",
    "encoderdecoder.load_state_dict(torch.load('encoderdecoder-1573972290'))\n",
    "data = []\n",
    "directory = \"numpy_img/\"\n",
    "for file in os.listdir(directory):\n",
    "    training_data = np.load(directory+file, allow_pickle=True, mmap_mode = 'r+')\n",
    "    data.append(training_data)"
   ]
  },
  {
   "cell_type": "code",
   "execution_count": 3,
   "metadata": {},
   "outputs": [
    {
     "name": "stderr",
     "output_type": "stream",
     "text": "0%|          | 0/11277 [00:00<?, ?it/s]Epoch: 0\n  7%|▋         | 790/11277 [12:09<2:37:48,  1.11it/s]"
    }
   ],
   "source": [
    "testing = False\n",
    "j = 0\n",
    "mean = []\n",
    "n = 12\n",
    "epochs = 10\n",
    "\n",
    "f= open(f\"logs/results-{int(time.time())}.txt\",\"w+\")\n",
    "for epoch in range(epochs):\n",
    "    samps = []\n",
    "    print(\"Epoch: \"+ str(epoch))\n",
    "    for img, training_data in enumerate(data):\n",
    "        nums = list(range(len(training_data)))\n",
    "        for i in range(0, len(nums), n):\n",
    "            set = nums[i:i+n]\n",
    "            random.shuffle(set)\n",
    "            samps.append([img, set])\n",
    "    random.shuffle(samps)\n",
    "    for frame in tqdm(samps):\n",
    "        LinNimg = torch.from_numpy(data[frame[0]][frame[1],0])\\\n",
    "        .type(torch.cuda.FloatTensor)\n",
    "        RoutNimg = torch.from_numpy(data[frame[0]][frame[1],1])\\\n",
    "        .type(torch.cuda.FloatTensor)\n",
    "\n",
    "        LinN = torch.div(LinNimg, 255).permute(0,3,1,2)\n",
    "        RoutN = torch.div(RoutNimg, 255).permute(0,3,1,2)\n",
    "\n",
    "        encoderdecoder.zero_grad()\n",
    "        output = encoderdecoder(LinN.view(-1,3,256,640))\n",
    "        loss = loss_function(output,[LinN.view(-1,3,256,640),RoutN.view(-1,3,256,640)])\n",
    "        loss.backward()\n",
    "        mean.append(loss.item())\n",
    "        j += 1\n",
    "        if j % 100 == 0:\n",
    "            f.write(f\"{round(sum(mean)/len(mean),5)}\\n\")\n",
    "            f.flush()\n",
    "            mean = []\n",
    "        if j % 5000 == 0:\n",
    "            thetime = int(time.time())\n",
    "            torch.save(encoderdecoder.state_dict(), f\"state_dicts/encoderdecoder-{thetime}\")\n",
    "            save_image(RoutN[1,:,:,:].view(3,256,640).cpu(), \\\n",
    "                       f'imageout/{thetime}-left.png')\n",
    "            save_image(output[0][1,0,:,:].view(256,640).cpu(), \\\n",
    "                       f'imageout/{thetime}-depth.png')\n",
    "        optimizer.step()\n",
    "f.close()"
   ]
  },
  {
   "cell_type": "code",
   "execution_count": 0,
   "metadata": {},
   "outputs": [],
   "source": [
    "plt.imshow(output[0][0,0,:,:].view(256, 640).cpu().detach().numpy(), 'gray')\n",
    "plt.show()\n",
    "plt.imshow(RoutN[0,:,:,:].view(3,256,640).permute(1,2,0).cpu())\n",
    "plt.show()"
   ]
  },
  {
   "cell_type": "code",
   "execution_count": null,
   "metadata": {},
   "outputs": [],
   "source": []
  }
 ],
 "metadata": {
  "kernelspec": {
   "display_name": "Python 3",
   "language": "python3",
   "name": "python3"
  }
 },
 "nbformat": 4,
 "nbformat_minor": 2
}