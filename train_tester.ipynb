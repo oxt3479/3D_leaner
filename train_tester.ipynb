{
 "cells": [
  {
   "cell_type": "code",
   "execution_count": null,
   "metadata": {},
   "outputs": [],
   "source": [
    "import torch\n",
    "import torch.nn as nn\n",
    "import torch.nn.functional as F\n",
    "import monodepthloss\n",
    "import depthencoder \n",
    "DEVICE = torch.device(\"cuda:0\")\n",
    "# Moving to the gpu: net = Net().to(DEVICE)"
   ]
  },
  {
   "cell_type": "code",
   "execution_count": null,
   "metadata": {},
   "outputs": [],
   "source": [
    "network = depthencoder.depthencoder()\n",
    "network = network.to(DEVICE)\n",
    "x = torch.randn(3,1280,720).to(DEVICE)\n",
    "xout = network(x.view(-1,1,1280,720),x.view(-1,1,1280,720),x.view(-1,1,1280,720))\n",
    "for tensor in xout:\n",
    "    print(tensor.size())"
   ]
  },
  {
   "cell_type": "code",
   "execution_count": null,
   "metadata": {},
   "outputs": [],
   "source": [
    "import numpy as np\n",
    "import matplotlib.pyplot as plt\n",
    "import torch.optim as optim\n",
    "from tqdm import tqdm\n",
    "import random\n",
    "import movieparser\n",
    "import os\n",
    "import time\n",
    "from torchvision.utils import save_image\n",
    "import torchvision\n",
    "\n",
    "images = os.listdir('left/skyscraper')\n",
    "\n",
    "optimizer = optim.Adam(network.parameters(),lr=0.001) \n",
    "\n",
    "frames = list(range(len(images)))\n",
    "frames = frames[1200:-10900] # Remove meaningless title/credit images.\n",
    "EPOCHS = 1\n",
    "\n",
    "batch_size = 1\n",
    "results = []\n",
    "# network.load_state_dict(torch.load('model2.t'))\n",
    "# for epoch in range(EPOCHS):\n",
    "random.shuffle(frames)\n",
    "frame_subset = []\n",
    "blockofframes = []\n",
    "for i, frame in enumerate(frames):\n",
    "    frame_subset.append(frame)\n",
    "    if (i+1) % batch_size == 0:\n",
    "        blockofframes.append(frame_subset)\n",
    "        frame_subset = []"
   ]
  },
  {
   "cell_type": "code",
   "execution_count": null,
   "metadata": {},
   "outputs": [],
   "source": [
    "testing = False\n",
    "j = 0\n",
    "mean = []\n",
    "f= open(f\"results-{int(time.time())}.txt\",\"w+\")\n",
    "for frameset in tqdm(blockofframes):\n",
    "    LinNm, LinN, LinNp, RoutNm, RoutN, RoutNp = movieparser.getframeset(frameset, images)\n",
    "    \n",
    "    network.zero_grad()\n",
    "    output1 = network(LinNm.type(torch.cuda.FloatTensor), \\\n",
    "                     LinN.type(torch.cuda.FloatTensor), \\\n",
    "                     LinNp.type(torch.cuda.FloatTensor))\n",
    "    output2 = network(RoutNm.type(torch.cuda.FloatTensor), \\\n",
    "                     RoutN.type(torch.cuda.FloatTensor), \\\n",
    "                     RoutNp.type(torch.cuda.FloatTensor))\n",
    "    #reconstructed = apply_disparity(LinN.type(torch.cuda.FloatTensor), output)\n",
    "    if(testing):\n",
    "        plt.imshow(RoutN[0].cpu().view(720, 1280), 'gray')\n",
    "        plt.show()\n",
    "        plt.imshow(output1[-3][0].view(720//4, 1280//4).cpu().detach().numpy(), 'gray')\n",
    "        plt.show()\n",
    "        break\n",
    "\n",
    "    loss_function = monodepthloss.MonodepthLoss(n=4, SSIM_w=0.85,\\\n",
    "            disp_gradient_w=0.1, lr_w=1).to(DEVICE)\n",
    "    output = []\n",
    "    for i in range(len(output1)):\n",
    "        output.append(torch.cat((output1[i], output2[i]), 1))\n",
    "    loss = loss_function(output,[LinN.type(torch.cuda.FloatTensor),\\\n",
    "                                 RoutN.type(torch.cuda.FloatTensor)])\n",
    "    loss.backward()\n",
    "    mean.append(loss.item())\n",
    "    if j % 100 == 0:\n",
    "        f.write(f\"{round(sum(mean)/len(mean),5)}\\n\")\n",
    "        f.flush()\n",
    "        results.append(sum(mean)/len(mean))\n",
    "        mean = []\n",
    "    j += 1\n",
    "    if j % 5000 == 0:\n",
    "        thetime = int(time.time())\n",
    "        torch.save(network.state_dict(), f\"model-{thetime}\")\n",
    "        save_image(torch.div(RoutN[0].cpu().view(720, 1280),255), \\\n",
    "                   f'imageout/right-{thetime}.png')\n",
    "        save_image(output1[-1][0].view(720, 1280).cpu(), \\\n",
    "                   f'imageout/depth-{thetime}.png')\n",
    "    optimizer.step()\n",
    "f.close()"
   ]
  },
  {
   "cell_type": "code",
   "execution_count": null,
   "metadata": {},
   "outputs": [],
   "source": []
  }
 ],
 "metadata": {
  "kernelspec": {
   "display_name": "Python 3",
   "language": "python3",
   "name": "python3"
  },
  "language_info": {
   "codemirror_mode": {
    "name": "ipython",
    "version": 3
   },
   "file_extension": ".py",
   "mimetype": "text/x-python",
   "name": "python",
   "nbconvert_exporter": "python",
   "pygments_lexer": "ipython3",
   "version": "3.6.8"
  }
 },
 "nbformat": 4,
 "nbformat_minor": 2
}
