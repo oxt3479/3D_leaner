{
 "cells": [
  {
   "cell_type": "code",
   "execution_count": null,
   "metadata": {},
   "outputs": [
    {
     "name": "stderr",
     "output_type": "stream",
     "text": [
      " 60%|█████▉    | 75002/125212 [3:26:53<2:04:31,  6.72it/s]   "
     ]
    }
   ],
   "source": [
    "import os\n",
    "import cv2\n",
    "import numpy as np\n",
    "from tqdm import tqdm\n",
    "from PIL import Image\n",
    "\n",
    "REBUILD_DATA = True\n",
    "# when you don't have too much data you will be preprocessing for a short amount of time. \n",
    "\n",
    "class LeftToRight():\n",
    "    # Having a class isnt necessary, but should be done!\n",
    "    IMG_SIZE = (1280,720)\n",
    "    LEFT = \"left/\"\n",
    "    RIGHT = \"right/\"\n",
    "    #LABELS = {CATS : 0, DOGS : 1}\n",
    "    # We want these in one hot vectors!\n",
    "    MOVIES = os.listdir(\"left/\")\n",
    "    training_data = []\n",
    "    size = 640, 256\n",
    "    box = (0,100,1280,620)\n",
    "    def make_training_data(self):\n",
    "        LEFT = self.LEFT\n",
    "        RIGHT = self.RIGHT\n",
    "        size = self.size\n",
    "        #for movie in self.MOVIES:\n",
    "        movie = self.MOVIES[0]\n",
    "        box = self.box\n",
    "        # First build left 3 img dataset.\n",
    "        k = 0\n",
    "        j = 0\n",
    "        for i in tqdm(range(1200, 136412)):\n",
    "            try:            \n",
    "                path_L = os.path.join(LEFT+movie, os.listdir(LEFT+movie)[i])\n",
    "                LN = Image.open(path_L).crop(box).resize(size, Image.ANTIALIAS)\n",
    "                path_R = os.path.join(RIGHT+movie, os.listdir(RIGHT+movie)[i])\n",
    "                RN = Image.open(path_R).crop(box).resize(size, Image.ANTIALIAS)\n",
    "                self.training_data.append([np.array(LN),np.array(RN)])\n",
    "            except Exception as e:\n",
    "                print(str(e))\n",
    "                pass\n",
    "            j+=1\n",
    "            if j == 10000 or i == 136411:\n",
    "                k+=1\n",
    "                np.save(f\"skyscraper_lowres-{k}.npy\", self.training_data)\n",
    "                j = 0\n",
    "                self.training_data = []\n",
    "        #np.random.shuffle(self.training_data)\n",
    "        #DO NOT SHUFFLE: otherwise frame order is lost. (shuffle when training)\n",
    "        \n",
    "if REBUILD_DATA:\n",
    "    lefttoright = LeftToRight()\n",
    "    lefttoright.make_training_data()"
   ]
  },
  {
   "cell_type": "code",
   "execution_count": null,
   "metadata": {},
   "outputs": [],
   "source": [
    "training_data = np.load(\"skyscraper_lowres-1.npy\", allow_pickle=True)\n",
    "print(len(training_data))"
   ]
  },
  {
   "cell_type": "code",
   "execution_count": null,
   "metadata": {},
   "outputs": [],
   "source": [
    "import matplotlib.pyplot as plt\n",
    "plt.imshow(training_data[-1][1]) # [n][l/r]\n",
    "plt.show()"
   ]
  },
  {
   "cell_type": "code",
   "execution_count": null,
   "metadata": {},
   "outputs": [],
   "source": []
  }
 ],
 "metadata": {
  "kernelspec": {
   "display_name": "Python 3",
   "language": "python3",
   "name": "python3"
  },
  "language_info": {
   "codemirror_mode": {
    "name": "ipython",
    "version": 3
   },
   "file_extension": ".py",
   "mimetype": "text/x-python",
   "name": "python",
   "nbconvert_exporter": "python",
   "pygments_lexer": "ipython3",
   "version": "3.6.8"
  }
 },
 "nbformat": 4,
 "nbformat_minor": 2
}
